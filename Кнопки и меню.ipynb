{
 "cells": [
  {
   "cell_type": "code",
   "execution_count": 3,
   "metadata": {
    "collapsed": true
   },
   "outputs": [],
   "source": [
    "import telebot\n",
    "token = '473874797:AAFvdrsM4-9w7m0LIHbJrzemvgK2ZH3KWOY'"
   ]
  },
  {
   "cell_type": "code",
   "execution_count": 4,
   "metadata": {
    "collapsed": true
   },
   "outputs": [],
   "source": [
    "from telebot import types"
   ]
  },
  {
   "cell_type": "code",
   "execution_count": null,
   "metadata": {},
   "outputs": [],
   "source": [
    "# Начало\n",
    "bot = telebot.TeleBot(token)\n",
    "currencies = ['евро', 'доллар']\n",
    "def create_keyboard():\n",
    "    keyboard = types.InlineKeyboardMarkup(row_width=2)\n",
    "    buttons = [types.InlineKeyboardButton(text=c, callback_data=c)\n",
    "     for c in currencies]\n",
    "    keyboard.add(*buttons)\n",
    "    return keyboard\n",
    "@bot.callback_query_handler(func=lambda x: True)\n",
    "def callback_handler(callback_query):\n",
    "    message = callback_query.message\n",
    "    text = callback_query.data\n",
    "    currency, value = check_currency_value(text)\n",
    "    if currency:\n",
    "        bot.answer_callback_query(callback_query.id, text='Курс {} равен {}'.format(currency, value))\n",
    "    else:\n",
    "        bot.send_message(message.chat.id, text='Укажите валюту')\n",
    "def currency_in_message(message):\n",
    "    for currency in currencies:\n",
    "        if currency in message.text.lower():\n",
    "            return True\n",
    "    return False\n",
    "\n",
    "def check_currency_value(text):\n",
    "    currency_values = {'евро': 70, 'доллар': 60}\n",
    "    for currency, value in currency_values.items():\n",
    "        if currency in text.lower():\n",
    "            return currency, value\n",
    "    return None, None\n",
    "\n",
    "@bot.message_handler(commands=['rate'])\n",
    "@bot.message_handler(func=currency_in_message)\n",
    "def handle_message(message):\n",
    "    currency, value = check_currency_value(message.text)\n",
    "    keyboard = create_keyboard()\n",
    "    if currency:\n",
    "        \n",
    "        bot.send_message(message.chat.id, text='Курс {} равен {}'.format(currency, value),\n",
    "                        reply_markup=keyboard)\n",
    "    else:\n",
    "        bot.send_message(message.chat.id, text='Укажите валюту',reply_markup=keyboard)\n",
    "\n",
    "@bot.message_handler()\n",
    "def handle_message(message):\n",
    "    print(message)\n",
    "    bot.send_message(message.chat.id, text='Это бот для проверки курса валют.')\n",
    "bot.polling()"
   ]
  },
  {
   "cell_type": "code",
   "execution_count": null,
   "metadata": {
    "collapsed": true
   },
   "outputs": [],
   "source": [
    "def create_markup(currencies):\n",
    "    keyboard = types.InlineKeyboardMarkup(row_width=2)\n",
    "    buttons = [types.InlineKeyboardButton(text=currency, callback_data=currency)\n",
    "               for currency in currencies]\n",
    "    keyboard.add(*buttons)\n",
    "    return keyboard\n",
    "\n",
    "@bot.callback_query_handler(func=lambda x: True)\n",
    "def handle_currency_callback(callback_query):\n",
    "    message = callback_query.message\n",
    "    data = callback_query.data\n",
    "    currency, rate = check_currency_value(data)\n",
    "    if currency:\n",
    "        bot.answer_callback_query(callback_query_id=callback_query.id,\n",
    "                                 text='Курс {} равен {}'.format(currency, rate))"
   ]
  }
 ],
 "metadata": {
  "kernelspec": {
   "display_name": "Python 3",
   "language": "python",
   "name": "python3"
  },
  "language_info": {
   "codemirror_mode": {
    "name": "ipython",
    "version": 3
   },
   "file_extension": ".py",
   "mimetype": "text/x-python",
   "name": "python",
   "nbconvert_exporter": "python",
   "pygments_lexer": "ipython3",
   "version": "3.6.2"
  }
 },
 "nbformat": 4,
 "nbformat_minor": 2
}
