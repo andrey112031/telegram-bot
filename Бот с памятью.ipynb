{
 "cells": [
  {
   "cell_type": "code",
   "execution_count": 7,
   "metadata": {},
   "outputs": [],
   "source": [
    "import telebot\n",
    "token = '473874797:AAFvdrsM4-9w7m0LIHbJrzemvgK2ZH3KWOY'\n",
    "START, TITLE, PRICE, CONFIRMATION = range(4)"
   ]
  },
  {
   "cell_type": "code",
   "execution_count": null,
   "metadata": {
    "collapsed": true
   },
   "outputs": [],
   "source": [
    "bot = telebot.TeleBot(token)\n",
    "@bot.message_handler(func=lambda message: get_state(message) == START)\n",
    "def handle_message(message):\n",
    "    bot.send_message(message.chat.id, text='Напиши название.')\n",
    "    update_state(message, TITLE)\n",
    "\n",
    "@bot.message_handler(func=lambda message: get_state(message) == TITLE)\n",
    "def handle_title(message):\n",
    "    # название\n",
    "    update_product(message.chat.id, 'title', message.text)\n",
    "    bot.send_message(message.chat.id, text='Укажи цену.')\n",
    "    update_state(message, PRICE)\n",
    "\n",
    "@bot.message_handler(func=lambda message: get_state(message) == PRICE)\n",
    "def handle_price(message):\n",
    "    update_product(message.chat.id, 'price', message.text)\n",
    "    product = get_product(message.chat.id)\n",
    "    bot.send_message(message.chat.id, text='Опубликовать объявление? {}'.format(product))\n",
    "    update_state(message, CONFIRMATION)\n",
    "\n",
    "@bot.message_handler(func=lambda message: get_state(message) == CONFIRMATION)\n",
    "def handle_confirmation(message):\n",
    "    if 'да' in message.text.lower():\n",
    "        bot.send_message(message.chat.id, text='Объявление опубликовано')\n",
    "    update_state(message, START)\n",
    "\n",
    "bot.polling()"
   ]
  },
  {
   "cell_type": "code",
   "execution_count": 11,
   "metadata": {
    "collapsed": true
   },
   "outputs": [],
   "source": [
    "PRODUCTS = defaultdict(lambda: {})\n",
    "def update_product(user_id, key, value):\n",
    "    PRODUCTS[user_id][key] = value\n",
    "def get_product(user_id):\n",
    "    return PRODUCTS[user_id]"
   ]
  },
  {
   "cell_type": "code",
   "execution_count": 12,
   "metadata": {
    "collapsed": true
   },
   "outputs": [],
   "source": [
    "from collections import defaultdict\n",
    "USER_STATE = defaultdict(lambda: START)\n",
    "\n",
    "def get_state(message):\n",
    "    return USER_STATE[message.chat.id]\n",
    "def update_state(message, state):\n",
    "    USER_STATE[message.chat.id] = state\n"
   ]
  },
  {
   "cell_type": "code",
   "execution_count": null,
   "metadata": {
    "collapsed": true
   },
   "outputs": [],
   "source": [
    "PRODUCTS = defaultdict(lambda: {})\n",
    "def update_product(user_id, key, value):\n",
    "    PRODUCTS[user_id][key] = value\n",
    "def get_product(user_id):\n",
    "    return PRODUCTS[user_id]"
   ]
  },
  {
   "cell_type": "code",
   "execution_count": null,
   "metadata": {},
   "outputs": [],
   "source": [
    "bot = telebot.TeleBot(token)\n",
    "@bot.message_handler(func = lambda message : get_state(message) == START)\n",
    "def handle_message(message):\n",
    "    bot.send_message(message.chat.id, text='Укажи название ноутбука.')\n",
    "    update_state(message, TITLE)\n",
    "\n",
    "@bot.message_handler(func = lambda message : get_state(message) == TITLE)\n",
    "def handle_title(message):\n",
    "    bot.send_message(message.chat.id, text='Укажи стоимость ноутбука.')\n",
    "    update_state(message, PRICE)\n",
    "    update_product(message.chat.id, 'title', message.text)\n",
    "\n",
    "@bot.message_handler(func = lambda message : get_state(message) == PRICE)\n",
    "def handle_title(message):\n",
    "    update_product(message.chat.id, 'price', message.text)\n",
    "    bot.send_message(message.chat.id, text='Ты готов опубликовать это объявление? {}'.format(get_product(message.chat.id)))\n",
    "    update_state(message, CONFIRMATION)\n",
    "\n",
    "@bot.message_handler(func = lambda message : get_state(message) == CONFRIMATION)\n",
    "def handle_title(message):\n",
    "    if 'да' in message.text.lower():\n",
    "        bot.send_message(message.chat.id, text='Объявление опубликовано')\n",
    "    update_state(message, START)  \n",
    "bot.polling()"
   ]
  }
 ],
 "metadata": {
  "kernelspec": {
   "display_name": "Python 3",
   "language": "python",
   "name": "python3"
  },
  "language_info": {
   "codemirror_mode": {
    "name": "ipython",
    "version": 3
   },
   "file_extension": ".py",
   "mimetype": "text/x-python",
   "name": "python",
   "nbconvert_exporter": "python",
   "pygments_lexer": "ipython3",
   "version": "3.6.2"
  }
 },
 "nbformat": 4,
 "nbformat_minor": 2
}
